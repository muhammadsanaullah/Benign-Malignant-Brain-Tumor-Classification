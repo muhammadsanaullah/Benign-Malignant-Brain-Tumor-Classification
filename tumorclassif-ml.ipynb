{
 "cells": [
  {
   "cell_type": "markdown",
   "id": "f60cde82",
   "metadata": {},
   "source": [
    "# Breast Tumor Classification using different Machine Learning Classifiers"
   ]
  },
  {
   "cell_type": "code",
   "execution_count": 95,
   "id": "93b8b6d2",
   "metadata": {},
   "outputs": [],
   "source": [
    "import numpy as np\n",
    "import pandas as pd\n",
    "import seaborn as sn\n",
    "import matplotlib.pyplot as plt\n",
    "from sklearn.metrics import classification_report, confusion_matrix\n",
    "from sklearn.model_selection import cross_val_score\n",
    "from sklearn.metrics import roc_auc_score\n",
    "from sklearn.preprocessing import LabelEncoder"
   ]
  },
  {
   "cell_type": "code",
   "execution_count": 96,
   "id": "87f0e550",
   "metadata": {},
   "outputs": [],
   "source": [
    "from sklearn.model_selection import train_test_split\n",
    "from sklearn.neighbors import KNeighborsClassifier"
   ]
  },
  {
   "cell_type": "code",
   "execution_count": 97,
   "id": "4c9a63f7",
   "metadata": {},
   "outputs": [],
   "source": [
    "data = pd.read_csv('data 2.csv')"
   ]
  },
  {
   "cell_type": "code",
   "execution_count": 98,
   "id": "a2602790",
   "metadata": {
    "scrolled": true
   },
   "outputs": [],
   "source": [
    "X = data[['radius_mean','texture_mean','perimeter_mean','area_mean','smoothness_mean','compactness_mean','concavity_mean','concave points_mean','symmetry_mean','fractal_dimension_mean','radius_se','texture_se','perimeter_se','area_se','smoothness_se','compactness_se','concavity_se','concave points_se','symmetry_se','fractal_dimension_se','radius_worst','texture_worst','perimeter_worst','area_worst','smoothness_worst','compactness_worst','concavity_worst','concave points_worst','symmetry_worst','fractal_dimension_worst']]\n",
    "Y = data['diagnosis']"
   ]
  },
  {
   "cell_type": "markdown",
   "id": "f391cd6a",
   "metadata": {},
   "source": [
    "# KNN-Classifier\n",
    "\n",
    "### Average Accuracy after 100 Iterations: 0.94"
   ]
  },
  {
   "cell_type": "code",
   "execution_count": 99,
   "id": "eb48b5b4",
   "metadata": {},
   "outputs": [],
   "source": [
    "# Convert character labels to numerical labels\n",
    "le = LabelEncoder()\n",
    "Y = le.fit_transform(Y)\n",
    "X_train, X_test, Y_train, Y_test = train_test_split(X,Y,random_state = 0)"
   ]
  },
  {
   "cell_type": "code",
   "execution_count": 100,
   "id": "e183a29b",
   "metadata": {},
   "outputs": [],
   "source": [
    "knn = KNeighborsClassifier(n_neighbors = 5)"
   ]
  },
  {
   "cell_type": "markdown",
   "id": "620093d1",
   "metadata": {},
   "source": [
    "### Accuracy, Recall, Precision, F1 Score & ROC-AUC Metrics"
   ]
  },
  {
   "cell_type": "code",
   "execution_count": 101,
   "id": "50506d4f",
   "metadata": {},
   "outputs": [
    {
     "name": "stdout",
     "output_type": "stream",
     "text": [
      "Accuracy of K-NN Classifier on Test Set:  0.9370629370629371\n"
     ]
    },
    {
     "name": "stderr",
     "output_type": "stream",
     "text": [
      "C:\\Users\\muham\\anaconda3\\lib\\site-packages\\sklearn\\neighbors\\_classification.py:228: FutureWarning: Unlike other reduction functions (e.g. `skew`, `kurtosis`), the default behavior of `mode` typically preserves the axis it acts along. In SciPy 1.11.0, this behavior will change: the default value of `keepdims` will become False, the `axis` over which the statistic is taken will be eliminated, and the value None will no longer be accepted. Set `keepdims` to True or False to avoid this warning.\n",
      "  mode, _ = stats.mode(_y[neigh_ind, k], axis=1)\n",
      "C:\\Users\\muham\\anaconda3\\lib\\site-packages\\sklearn\\neighbors\\_classification.py:228: FutureWarning: Unlike other reduction functions (e.g. `skew`, `kurtosis`), the default behavior of `mode` typically preserves the axis it acts along. In SciPy 1.11.0, this behavior will change: the default value of `keepdims` will become False, the `axis` over which the statistic is taken will be eliminated, and the value None will no longer be accepted. Set `keepdims` to True or False to avoid this warning.\n",
      "  mode, _ = stats.mode(_y[neigh_ind, k], axis=1)\n"
     ]
    }
   ],
   "source": [
    "knn.fit(X_train,Y_train)\n",
    "Y_pred = knn.predict(X_test)\n",
    "print('Accuracy of K-NN Classifier on Test Set: ', knn.score(X_test,Y_test))"
   ]
  },
  {
   "cell_type": "code",
   "execution_count": 102,
   "id": "d19f1d22",
   "metadata": {},
   "outputs": [
    {
     "name": "stdout",
     "output_type": "stream",
     "text": [
      "[[85  5]\n",
      " [ 4 49]]\n",
      "              precision    recall  f1-score   support\n",
      "\n",
      "           0       0.96      0.94      0.95        90\n",
      "           1       0.91      0.92      0.92        53\n",
      "\n",
      "    accuracy                           0.94       143\n",
      "   macro avg       0.93      0.93      0.93       143\n",
      "weighted avg       0.94      0.94      0.94       143\n",
      "\n"
     ]
    }
   ],
   "source": [
    "print(confusion_matrix(Y_test, Y_pred))\n",
    "print(classification_report(Y_test, Y_pred))"
   ]
  },
  {
   "cell_type": "code",
   "execution_count": 103,
   "id": "714ad8bf",
   "metadata": {},
   "outputs": [
    {
     "name": "stdout",
     "output_type": "stream",
     "text": [
      "ROC AUC Score: 0.9344863731656184\n"
     ]
    }
   ],
   "source": [
    "# calculate the ROC AUC score\n",
    "roc_auc = roc_auc_score(Y_test, Y_pred, multi_class='ovr')\n",
    "print(\"ROC AUC Score:\", roc_auc)"
   ]
  },
  {
   "cell_type": "markdown",
   "id": "c5cbfca7",
   "metadata": {},
   "source": [
    "### Cross Validation of KNN Classifier"
   ]
  },
  {
   "cell_type": "code",
   "execution_count": 104,
   "id": "3e3d70ab",
   "metadata": {},
   "outputs": [
    {
     "name": "stdout",
     "output_type": "stream",
     "text": [
      "Accuracy scores: [0.9122807  0.87719298 0.89473684 0.96491228 0.94736842 0.92982456\n",
      " 0.96491228 0.92982456 0.9122807  0.96428571]\n",
      "Mean Accuracy: 0.93 (+/- 0.06)\n"
     ]
    },
    {
     "name": "stderr",
     "output_type": "stream",
     "text": [
      "C:\\Users\\muham\\anaconda3\\lib\\site-packages\\sklearn\\neighbors\\_classification.py:228: FutureWarning: Unlike other reduction functions (e.g. `skew`, `kurtosis`), the default behavior of `mode` typically preserves the axis it acts along. In SciPy 1.11.0, this behavior will change: the default value of `keepdims` will become False, the `axis` over which the statistic is taken will be eliminated, and the value None will no longer be accepted. Set `keepdims` to True or False to avoid this warning.\n",
      "  mode, _ = stats.mode(_y[neigh_ind, k], axis=1)\n",
      "C:\\Users\\muham\\anaconda3\\lib\\site-packages\\sklearn\\neighbors\\_classification.py:228: FutureWarning: Unlike other reduction functions (e.g. `skew`, `kurtosis`), the default behavior of `mode` typically preserves the axis it acts along. In SciPy 1.11.0, this behavior will change: the default value of `keepdims` will become False, the `axis` over which the statistic is taken will be eliminated, and the value None will no longer be accepted. Set `keepdims` to True or False to avoid this warning.\n",
      "  mode, _ = stats.mode(_y[neigh_ind, k], axis=1)\n",
      "C:\\Users\\muham\\anaconda3\\lib\\site-packages\\sklearn\\neighbors\\_classification.py:228: FutureWarning: Unlike other reduction functions (e.g. `skew`, `kurtosis`), the default behavior of `mode` typically preserves the axis it acts along. In SciPy 1.11.0, this behavior will change: the default value of `keepdims` will become False, the `axis` over which the statistic is taken will be eliminated, and the value None will no longer be accepted. Set `keepdims` to True or False to avoid this warning.\n",
      "  mode, _ = stats.mode(_y[neigh_ind, k], axis=1)\n",
      "C:\\Users\\muham\\anaconda3\\lib\\site-packages\\sklearn\\neighbors\\_classification.py:228: FutureWarning: Unlike other reduction functions (e.g. `skew`, `kurtosis`), the default behavior of `mode` typically preserves the axis it acts along. In SciPy 1.11.0, this behavior will change: the default value of `keepdims` will become False, the `axis` over which the statistic is taken will be eliminated, and the value None will no longer be accepted. Set `keepdims` to True or False to avoid this warning.\n",
      "  mode, _ = stats.mode(_y[neigh_ind, k], axis=1)\n",
      "C:\\Users\\muham\\anaconda3\\lib\\site-packages\\sklearn\\neighbors\\_classification.py:228: FutureWarning: Unlike other reduction functions (e.g. `skew`, `kurtosis`), the default behavior of `mode` typically preserves the axis it acts along. In SciPy 1.11.0, this behavior will change: the default value of `keepdims` will become False, the `axis` over which the statistic is taken will be eliminated, and the value None will no longer be accepted. Set `keepdims` to True or False to avoid this warning.\n",
      "  mode, _ = stats.mode(_y[neigh_ind, k], axis=1)\n",
      "C:\\Users\\muham\\anaconda3\\lib\\site-packages\\sklearn\\neighbors\\_classification.py:228: FutureWarning: Unlike other reduction functions (e.g. `skew`, `kurtosis`), the default behavior of `mode` typically preserves the axis it acts along. In SciPy 1.11.0, this behavior will change: the default value of `keepdims` will become False, the `axis` over which the statistic is taken will be eliminated, and the value None will no longer be accepted. Set `keepdims` to True or False to avoid this warning.\n",
      "  mode, _ = stats.mode(_y[neigh_ind, k], axis=1)\n",
      "C:\\Users\\muham\\anaconda3\\lib\\site-packages\\sklearn\\neighbors\\_classification.py:228: FutureWarning: Unlike other reduction functions (e.g. `skew`, `kurtosis`), the default behavior of `mode` typically preserves the axis it acts along. In SciPy 1.11.0, this behavior will change: the default value of `keepdims` will become False, the `axis` over which the statistic is taken will be eliminated, and the value None will no longer be accepted. Set `keepdims` to True or False to avoid this warning.\n",
      "  mode, _ = stats.mode(_y[neigh_ind, k], axis=1)\n",
      "C:\\Users\\muham\\anaconda3\\lib\\site-packages\\sklearn\\neighbors\\_classification.py:228: FutureWarning: Unlike other reduction functions (e.g. `skew`, `kurtosis`), the default behavior of `mode` typically preserves the axis it acts along. In SciPy 1.11.0, this behavior will change: the default value of `keepdims` will become False, the `axis` over which the statistic is taken will be eliminated, and the value None will no longer be accepted. Set `keepdims` to True or False to avoid this warning.\n",
      "  mode, _ = stats.mode(_y[neigh_ind, k], axis=1)\n",
      "C:\\Users\\muham\\anaconda3\\lib\\site-packages\\sklearn\\neighbors\\_classification.py:228: FutureWarning: Unlike other reduction functions (e.g. `skew`, `kurtosis`), the default behavior of `mode` typically preserves the axis it acts along. In SciPy 1.11.0, this behavior will change: the default value of `keepdims` will become False, the `axis` over which the statistic is taken will be eliminated, and the value None will no longer be accepted. Set `keepdims` to True or False to avoid this warning.\n",
      "  mode, _ = stats.mode(_y[neigh_ind, k], axis=1)\n",
      "C:\\Users\\muham\\anaconda3\\lib\\site-packages\\sklearn\\neighbors\\_classification.py:228: FutureWarning: Unlike other reduction functions (e.g. `skew`, `kurtosis`), the default behavior of `mode` typically preserves the axis it acts along. In SciPy 1.11.0, this behavior will change: the default value of `keepdims` will become False, the `axis` over which the statistic is taken will be eliminated, and the value None will no longer be accepted. Set `keepdims` to True or False to avoid this warning.\n",
      "  mode, _ = stats.mode(_y[neigh_ind, k], axis=1)\n"
     ]
    }
   ],
   "source": [
    "scores = cross_val_score(knn, X, Y, cv=10)\n",
    "# Print the accuracy scores for each fold\n",
    "print(\"Accuracy scores:\", scores)\n",
    "# Print the mean and standard deviation of the accuracy scores\n",
    "print(\"Mean Accuracy: %0.2f (+/- %0.2f)\" % (scores.mean(), scores.std() * 2))"
   ]
  },
  {
   "cell_type": "markdown",
   "id": "a7205c3c",
   "metadata": {},
   "source": [
    "# Logistic Regression\n",
    "\n",
    "### Average Accuracy after 100 Iterations: 0.95"
   ]
  },
  {
   "cell_type": "code",
   "execution_count": 105,
   "id": "62181eeb",
   "metadata": {},
   "outputs": [],
   "source": [
    "import pandas as pd\n",
    "from sklearn.linear_model import LogisticRegression\n",
    "from sklearn.model_selection import train_test_split"
   ]
  },
  {
   "cell_type": "code",
   "execution_count": 106,
   "id": "95a14f68",
   "metadata": {},
   "outputs": [],
   "source": [
    "# Scaling data in preprocessing \n",
    "from sklearn.pipeline import make_pipeline\n",
    "from sklearn.preprocessing import StandardScaler\n",
    "pipe = make_pipeline(StandardScaler(), LogisticRegression())"
   ]
  },
  {
   "cell_type": "code",
   "execution_count": 107,
   "id": "b1aa4853",
   "metadata": {},
   "outputs": [],
   "source": [
    "pipe = make_pipeline(StandardScaler(), LogisticRegression())"
   ]
  },
  {
   "cell_type": "code",
   "execution_count": 108,
   "id": "f2394930",
   "metadata": {
    "scrolled": true
   },
   "outputs": [
    {
     "data": {
      "text/plain": [
       "Pipeline(steps=[('standardscaler', StandardScaler()),\n",
       "                ('logisticregression', LogisticRegression())])"
      ]
     },
     "execution_count": 108,
     "metadata": {},
     "output_type": "execute_result"
    }
   ],
   "source": [
    "pipe.fit(X_train, Y_train)"
   ]
  },
  {
   "cell_type": "code",
   "execution_count": null,
   "id": "f96337ff",
   "metadata": {},
   "outputs": [],
   "source": []
  },
  {
   "cell_type": "markdown",
   "id": "090f6f2f",
   "metadata": {},
   "source": [
    "### Accuracy, Recall, Precision, F1 Score & ROC-AUC Metrics"
   ]
  },
  {
   "cell_type": "code",
   "execution_count": 109,
   "id": "f8c66462",
   "metadata": {},
   "outputs": [
    {
     "name": "stdout",
     "output_type": "stream",
     "text": [
      "Accuracy of Logistic Regression on Test Set:  0.958041958041958\n"
     ]
    }
   ],
   "source": [
    "Y_pred = pipe.predict(X_test)\n",
    "print('Accuracy of Logistic Regression on Test Set: ', pipe.score(X_test, Y_test))"
   ]
  },
  {
   "cell_type": "code",
   "execution_count": 110,
   "id": "9269f0b5",
   "metadata": {},
   "outputs": [
    {
     "name": "stdout",
     "output_type": "stream",
     "text": [
      "[[87  3]\n",
      " [ 3 50]]\n",
      "              precision    recall  f1-score   support\n",
      "\n",
      "           0       0.97      0.97      0.97        90\n",
      "           1       0.94      0.94      0.94        53\n",
      "\n",
      "    accuracy                           0.96       143\n",
      "   macro avg       0.96      0.96      0.96       143\n",
      "weighted avg       0.96      0.96      0.96       143\n",
      "\n"
     ]
    }
   ],
   "source": [
    "print(confusion_matrix(Y_test, Y_pred))\n",
    "print(classification_report(Y_test, Y_pred))"
   ]
  },
  {
   "cell_type": "code",
   "execution_count": 111,
   "id": "641a6b42",
   "metadata": {},
   "outputs": [
    {
     "name": "stdout",
     "output_type": "stream",
     "text": [
      "ROC AUC Score: 0.9550314465408805\n"
     ]
    }
   ],
   "source": [
    "# calculate the ROC AUC score\n",
    "roc_auc = roc_auc_score(Y_test, Y_pred, multi_class='ovr')\n",
    "print(\"ROC AUC Score:\", roc_auc)"
   ]
  },
  {
   "cell_type": "markdown",
   "id": "fe1088ac",
   "metadata": {},
   "source": [
    "### Cross Validation of Logistic Regression Model"
   ]
  },
  {
   "cell_type": "code",
   "execution_count": 112,
   "id": "5b6b4ffa",
   "metadata": {},
   "outputs": [
    {
     "name": "stdout",
     "output_type": "stream",
     "text": [
      "Accuracy scores: [0.98245614 0.98245614 0.98245614 0.96491228 0.98245614 0.98245614\n",
      " 0.94736842 1.         1.         0.98214286]\n",
      "Mean Accuracy: 0.98 (+/- 0.03)\n"
     ]
    }
   ],
   "source": [
    "scores = cross_val_score(pipe, X, Y, cv=10)\n",
    "# Print the accuracy scores for each fold\n",
    "print(\"Accuracy scores:\", scores)\n",
    "# Print the mean and standard deviation of the accuracy scores\n",
    "print(\"Mean Accuracy: %0.2f (+/- %0.2f)\" % (scores.mean(), scores.std() * 2))"
   ]
  },
  {
   "cell_type": "markdown",
   "id": "2f03dd7c",
   "metadata": {},
   "source": [
    "# Support Vector Machine\n",
    "\n",
    "### Average Accuracy after 100 Iterations: 0.96"
   ]
  },
  {
   "cell_type": "code",
   "execution_count": 113,
   "id": "0fb668e9",
   "metadata": {},
   "outputs": [],
   "source": [
    "from sklearn.svm import SVC\n",
    "#from adspy_shared_utilities import (plot_class_regions_for_classifier_subplot)"
   ]
  },
  {
   "cell_type": "code",
   "execution_count": 114,
   "id": "d06c03d9",
   "metadata": {},
   "outputs": [
    {
     "data": {
      "text/plain": [
       "SVC(kernel='linear')"
      ]
     },
     "execution_count": 114,
     "metadata": {},
     "output_type": "execute_result"
    }
   ],
   "source": [
    "svm_model = SVC(kernel='linear')\n",
    "svm_model.fit(X_train, Y_train)"
   ]
  },
  {
   "cell_type": "markdown",
   "id": "547d12c4",
   "metadata": {},
   "source": [
    "### Accuracy, Recall, Precision, F1 Score & ROC-AUC Metrics"
   ]
  },
  {
   "cell_type": "code",
   "execution_count": 115,
   "id": "f670a0ef",
   "metadata": {},
   "outputs": [
    {
     "name": "stdout",
     "output_type": "stream",
     "text": [
      "Accuracy of SVM on Test Set:  0.958041958041958\n"
     ]
    }
   ],
   "source": [
    "Y_pred = svm_model.predict(X_test)\n",
    "print('Accuracy of SVM on Test Set: ', svm_model.score(X_test,Y_test))"
   ]
  },
  {
   "cell_type": "code",
   "execution_count": 116,
   "id": "3bfd4797",
   "metadata": {},
   "outputs": [
    {
     "name": "stdout",
     "output_type": "stream",
     "text": [
      "[[85  5]\n",
      " [ 1 52]]\n",
      "              precision    recall  f1-score   support\n",
      "\n",
      "           0       0.99      0.94      0.97        90\n",
      "           1       0.91      0.98      0.95        53\n",
      "\n",
      "    accuracy                           0.96       143\n",
      "   macro avg       0.95      0.96      0.96       143\n",
      "weighted avg       0.96      0.96      0.96       143\n",
      "\n"
     ]
    }
   ],
   "source": [
    "print(confusion_matrix(Y_test, Y_pred))\n",
    "print(classification_report(Y_test, Y_pred))"
   ]
  },
  {
   "cell_type": "code",
   "execution_count": 117,
   "id": "1735f15b",
   "metadata": {},
   "outputs": [
    {
     "name": "stdout",
     "output_type": "stream",
     "text": [
      "ROC AUC Score: 0.9627882599580713\n"
     ]
    }
   ],
   "source": [
    "# calculate the ROC AUC score\n",
    "roc_auc = roc_auc_score(Y_test, Y_pred, multi_class='ovr')\n",
    "print(\"ROC AUC Score:\", roc_auc)"
   ]
  },
  {
   "cell_type": "markdown",
   "id": "3fdc3bd6",
   "metadata": {},
   "source": [
    "### Cross Validation of Support Vector Machine"
   ]
  },
  {
   "cell_type": "code",
   "execution_count": 118,
   "id": "2b958844",
   "metadata": {},
   "outputs": [
    {
     "name": "stdout",
     "output_type": "stream",
     "text": [
      "Accuracy scores: [0.98245614 0.92982456 0.92982456 0.94736842 0.96491228 0.98245614\n",
      " 0.92982456 0.94736842 0.96491228 0.96428571]\n",
      "Mean Accuracy: 0.95 (+/- 0.04)\n"
     ]
    }
   ],
   "source": [
    "scores = cross_val_score(svm_model, X, Y, cv=10)\n",
    "# Print the accuracy scores for each fold\n",
    "print(\"Accuracy scores:\", scores)\n",
    "# Print the mean and standard deviation of the accuracy scores\n",
    "print(\"Mean Accuracy: %0.2f (+/- %0.2f)\" % (scores.mean(), scores.std() * 2))"
   ]
  },
  {
   "cell_type": "markdown",
   "id": "361a30d5",
   "metadata": {},
   "source": [
    "# Decision Tree\n",
    "\n",
    "### Average Accuracy after 100 Iterations: 0.91"
   ]
  },
  {
   "cell_type": "code",
   "execution_count": 119,
   "id": "05d0cdc0",
   "metadata": {},
   "outputs": [],
   "source": [
    "from sklearn.tree import DecisionTreeClassifier"
   ]
  },
  {
   "cell_type": "code",
   "execution_count": 120,
   "id": "c5511a69",
   "metadata": {},
   "outputs": [
    {
     "name": "stdout",
     "output_type": "stream",
     "text": [
      "Accuracy of Decision Tree on Test Set:  0.8951048951048951\n"
     ]
    }
   ],
   "source": [
    "dt_model = DecisionTreeClassifier()\n",
    "dt_model.fit(X_train, Y_train)\n",
    "Y_pred = dt_model.predict(X_test)\n",
    "print('Accuracy of Decision Tree on Test Set: ', dt_model.score(X_test,Y_test))"
   ]
  },
  {
   "cell_type": "markdown",
   "id": "a249f32b",
   "metadata": {},
   "source": [
    "### Accuracy, Recall, Precision, F1 Score & ROC-AUC Metrics"
   ]
  },
  {
   "cell_type": "code",
   "execution_count": 121,
   "id": "858c64e5",
   "metadata": {},
   "outputs": [
    {
     "name": "stdout",
     "output_type": "stream",
     "text": [
      "[[76 14]\n",
      " [ 1 52]]\n",
      "              precision    recall  f1-score   support\n",
      "\n",
      "           0       0.99      0.84      0.91        90\n",
      "           1       0.79      0.98      0.87        53\n",
      "\n",
      "    accuracy                           0.90       143\n",
      "   macro avg       0.89      0.91      0.89       143\n",
      "weighted avg       0.91      0.90      0.90       143\n",
      "\n"
     ]
    }
   ],
   "source": [
    "print(confusion_matrix(Y_test, Y_pred))\n",
    "print(classification_report(Y_test, Y_pred))"
   ]
  },
  {
   "cell_type": "code",
   "execution_count": 122,
   "id": "65304c13",
   "metadata": {},
   "outputs": [
    {
     "name": "stdout",
     "output_type": "stream",
     "text": [
      "ROC AUC Score: 0.9127882599580713\n"
     ]
    }
   ],
   "source": [
    "# calculate the ROC AUC score\n",
    "roc_auc = roc_auc_score(Y_test, Y_pred, multi_class='ovr')\n",
    "print(\"ROC AUC Score:\", roc_auc)"
   ]
  },
  {
   "cell_type": "markdown",
   "id": "6899d9be",
   "metadata": {},
   "source": [
    "### Cross Validation of Decision Tree"
   ]
  },
  {
   "cell_type": "code",
   "execution_count": 123,
   "id": "d4dd12bf",
   "metadata": {},
   "outputs": [
    {
     "name": "stdout",
     "output_type": "stream",
     "text": [
      "Accuracy scores: [0.96491228 0.89473684 0.92982456 0.87719298 0.94736842 0.87719298\n",
      " 0.87719298 0.94736842 0.92982456 0.94642857]\n",
      "Mean Accuracy: 0.92 (+/- 0.06)\n"
     ]
    }
   ],
   "source": [
    "scores = cross_val_score(dt_model, X, Y, cv=10)\n",
    "# Print the accuracy scores for each fold\n",
    "print(\"Accuracy scores:\", scores)\n",
    "# Print the mean and standard deviation of the accuracy scores\n",
    "print(\"Mean Accuracy: %0.2f (+/- %0.2f)\" % (scores.mean(), scores.std() * 2))"
   ]
  },
  {
   "cell_type": "markdown",
   "id": "0487986e",
   "metadata": {},
   "source": [
    "# Gradient Boosted Decision Tree\n",
    "\n",
    "### Average Accuracy after 100 Iterations: 0.96"
   ]
  },
  {
   "cell_type": "code",
   "execution_count": 124,
   "id": "eb9f177b",
   "metadata": {},
   "outputs": [],
   "source": [
    "from sklearn.ensemble import GradientBoostingClassifier"
   ]
  },
  {
   "cell_type": "code",
   "execution_count": 125,
   "id": "d8a33dee",
   "metadata": {},
   "outputs": [
    {
     "data": {
      "text/plain": [
       "GradientBoostingClassifier(random_state=42)"
      ]
     },
     "execution_count": 125,
     "metadata": {},
     "output_type": "execute_result"
    }
   ],
   "source": [
    "clf_gb = GradientBoostingClassifier(n_estimators=100, learning_rate=0.1, max_depth=3, random_state=42)\n",
    "clf_gb.fit(X_train, Y_train)"
   ]
  },
  {
   "cell_type": "markdown",
   "id": "f7d9b65d",
   "metadata": {},
   "source": [
    "### Accuracy, Recall, Precision, F1 Score & ROC-AUC Metrics"
   ]
  },
  {
   "cell_type": "code",
   "execution_count": 126,
   "id": "6e306ef7",
   "metadata": {},
   "outputs": [
    {
     "name": "stdout",
     "output_type": "stream",
     "text": [
      "Accuracy of Gradient Boosted Decision Tree:  0.965034965034965\n"
     ]
    }
   ],
   "source": [
    "Y_pred = clf_gb.predict(X_test)\n",
    "print('Accuracy of Gradient Boosted Decision Tree: ', clf_gb.score(X_test,Y_test))"
   ]
  },
  {
   "cell_type": "code",
   "execution_count": 127,
   "id": "c88de347",
   "metadata": {},
   "outputs": [
    {
     "name": "stdout",
     "output_type": "stream",
     "text": [
      "[[87  3]\n",
      " [ 2 51]]\n",
      "              precision    recall  f1-score   support\n",
      "\n",
      "           0       0.98      0.97      0.97        90\n",
      "           1       0.94      0.96      0.95        53\n",
      "\n",
      "    accuracy                           0.97       143\n",
      "   macro avg       0.96      0.96      0.96       143\n",
      "weighted avg       0.97      0.97      0.97       143\n",
      "\n"
     ]
    }
   ],
   "source": [
    "print(confusion_matrix(Y_test, Y_pred))\n",
    "print(classification_report(Y_test, Y_pred))"
   ]
  },
  {
   "cell_type": "code",
   "execution_count": 128,
   "id": "9dfaa9fa",
   "metadata": {},
   "outputs": [
    {
     "name": "stdout",
     "output_type": "stream",
     "text": [
      "ROC AUC Score: 0.9644654088050315\n"
     ]
    }
   ],
   "source": [
    "# calculate the ROC AUC score\n",
    "roc_auc = roc_auc_score(Y_test, Y_pred, multi_class='ovr')\n",
    "print(\"ROC AUC Score:\", roc_auc)"
   ]
  },
  {
   "cell_type": "markdown",
   "id": "c40f4e2d",
   "metadata": {},
   "source": [
    "### Cross Validation of Gradient Boosted Decision Tree"
   ]
  },
  {
   "cell_type": "code",
   "execution_count": 129,
   "id": "e8476be2",
   "metadata": {},
   "outputs": [
    {
     "name": "stdout",
     "output_type": "stream",
     "text": [
      "Accuracy scores: [0.98245614 0.89473684 0.94736842 0.94736842 0.98245614 0.96491228\n",
      " 0.96491228 0.98245614 0.96491228 1.        ]\n",
      "Mean Accuracy: 0.96 (+/- 0.06)\n"
     ]
    }
   ],
   "source": [
    "scores = cross_val_score(clf_gb, X, Y, cv=10)\n",
    "# Print the accuracy scores for each fold\n",
    "print(\"Accuracy scores:\", scores)\n",
    "# Print the mean and standard deviation of the accuracy scores\n",
    "print(\"Mean Accuracy: %0.2f (+/- %0.2f)\" % (scores.mean(), scores.std() * 2))"
   ]
  },
  {
   "cell_type": "markdown",
   "id": "632f2a5f",
   "metadata": {},
   "source": [
    "# Naive Bayes Classifier\n",
    "\n",
    "### Average Accuracy after 100 Iterations: 0.91"
   ]
  },
  {
   "cell_type": "code",
   "execution_count": 130,
   "id": "9d526359",
   "metadata": {},
   "outputs": [],
   "source": [
    "from sklearn.naive_bayes import MultinomialNB\n",
    "clf = MultinomialNB()"
   ]
  },
  {
   "cell_type": "code",
   "execution_count": 131,
   "id": "65d9686b",
   "metadata": {},
   "outputs": [],
   "source": [
    "# Fit the model on the training data\n",
    "clf.fit(X_train, Y_train)\n",
    "# Make predictions on the test data\n",
    "Y_pred = clf.predict(X_test)"
   ]
  },
  {
   "cell_type": "markdown",
   "id": "436a606c",
   "metadata": {},
   "source": [
    "### Accuracy, Recall, Precision, F1 Score & ROC-AUC Metrics"
   ]
  },
  {
   "cell_type": "code",
   "execution_count": 132,
   "id": "7ff6f8a2",
   "metadata": {
    "scrolled": true
   },
   "outputs": [
    {
     "name": "stdout",
     "output_type": "stream",
     "text": [
      "Accuracy of Naive Bayes Classifier on Test Set:  0.9020979020979021\n",
      "[[88  2]\n",
      " [12 41]]\n",
      "              precision    recall  f1-score   support\n",
      "\n",
      "           0       0.88      0.98      0.93        90\n",
      "           1       0.95      0.77      0.85        53\n",
      "\n",
      "    accuracy                           0.90       143\n",
      "   macro avg       0.92      0.88      0.89       143\n",
      "weighted avg       0.91      0.90      0.90       143\n",
      "\n"
     ]
    }
   ],
   "source": [
    "print('Accuracy of Naive Bayes Classifier on Test Set: ', clf.score(X_test,Y_test))\n",
    "print(confusion_matrix(Y_test, Y_pred))\n",
    "print(classification_report(Y_test, Y_pred))"
   ]
  },
  {
   "cell_type": "code",
   "execution_count": 133,
   "id": "8bddc059",
   "metadata": {},
   "outputs": [
    {
     "name": "stdout",
     "output_type": "stream",
     "text": [
      "ROC AUC Score: 0.8756813417190775\n"
     ]
    }
   ],
   "source": [
    "# calculate the ROC AUC score\n",
    "roc_auc = roc_auc_score(Y_test, Y_pred, multi_class='ovr')\n",
    "print(\"ROC AUC Score:\", roc_auc)"
   ]
  },
  {
   "cell_type": "markdown",
   "id": "d0641f30",
   "metadata": {},
   "source": [
    "### Cross Validation of Naive Bayes Classifier"
   ]
  },
  {
   "cell_type": "code",
   "execution_count": 134,
   "id": "d2871757",
   "metadata": {},
   "outputs": [
    {
     "name": "stdout",
     "output_type": "stream",
     "text": [
      "Accuracy scores: [0.85964912 0.87719298 0.87719298 0.92982456 0.87719298 0.87719298\n",
      " 0.9122807  0.92982456 0.89473684 0.89285714]\n",
      "Mean Accuracy: 0.89 (+/- 0.05)\n"
     ]
    }
   ],
   "source": [
    "scores = cross_val_score(clf, X, Y, cv=10)\n",
    "# Print the accuracy scores for each fold\n",
    "print(\"Accuracy scores:\", scores)\n",
    "# Print the mean and standard deviation of the accuracy scores\n",
    "print(\"Mean Accuracy: %0.2f (+/- %0.2f)\" % (scores.mean(), scores.std() * 2))"
   ]
  },
  {
   "cell_type": "markdown",
   "id": "44bad281",
   "metadata": {},
   "source": [
    "# Random Forest Algorithm\n",
    "\n",
    "### Average Accuracy after 100 Iterations: 0.97"
   ]
  },
  {
   "cell_type": "code",
   "execution_count": 135,
   "id": "2e71fc5c",
   "metadata": {},
   "outputs": [],
   "source": [
    "from sklearn.ensemble import RandomForestClassifier\n",
    "# Create an instance of the RandomForestClassifier class\n",
    "rfc = RandomForestClassifier(n_estimators=100, random_state=42)\n",
    "# Fit the model on the training data\n",
    "rfc.fit(X_train, Y_train)\n",
    "Y_pred = rfc.predict(X_test)"
   ]
  },
  {
   "cell_type": "markdown",
   "id": "3a95b003",
   "metadata": {},
   "source": [
    "### Accuracy, Recall, Precision, F1 Score & ROC-AUC Metrics"
   ]
  },
  {
   "cell_type": "code",
   "execution_count": 136,
   "id": "914f9a9d",
   "metadata": {},
   "outputs": [
    {
     "name": "stdout",
     "output_type": "stream",
     "text": [
      "Accuracy of Random Forest Algorithm on Test Set:  0.972027972027972\n"
     ]
    }
   ],
   "source": [
    "print('Accuracy of Random Forest Algorithm on Test Set: ', rfc.score(X_test,Y_test))"
   ]
  },
  {
   "cell_type": "code",
   "execution_count": 137,
   "id": "cba16513",
   "metadata": {},
   "outputs": [
    {
     "name": "stdout",
     "output_type": "stream",
     "text": [
      "[[87  3]\n",
      " [ 1 52]]\n",
      "              precision    recall  f1-score   support\n",
      "\n",
      "           0       0.99      0.97      0.98        90\n",
      "           1       0.95      0.98      0.96        53\n",
      "\n",
      "    accuracy                           0.97       143\n",
      "   macro avg       0.97      0.97      0.97       143\n",
      "weighted avg       0.97      0.97      0.97       143\n",
      "\n"
     ]
    }
   ],
   "source": [
    "print(confusion_matrix(Y_test, Y_pred))\n",
    "print(classification_report(Y_test, Y_pred))"
   ]
  },
  {
   "cell_type": "code",
   "execution_count": 138,
   "id": "7ae2e26a",
   "metadata": {},
   "outputs": [
    {
     "name": "stdout",
     "output_type": "stream",
     "text": [
      "ROC AUC Score: 0.9738993710691823\n"
     ]
    }
   ],
   "source": [
    "# calculate the ROC AUC score\n",
    "roc_auc = roc_auc_score(Y_test, Y_pred, multi_class='ovr')\n",
    "print(\"ROC AUC Score:\", roc_auc)"
   ]
  },
  {
   "cell_type": "markdown",
   "id": "457fbde6",
   "metadata": {},
   "source": [
    "### Cross Validation of Random Forest Algorithm"
   ]
  },
  {
   "cell_type": "code",
   "execution_count": 139,
   "id": "3d711f4a",
   "metadata": {},
   "outputs": [
    {
     "name": "stdout",
     "output_type": "stream",
     "text": [
      "Accuracy scores: [0.98245614 0.89473684 0.92982456 0.94736842 1.         0.98245614\n",
      " 0.94736842 0.98245614 0.96491228 1.        ]\n",
      "Mean Accuracy: 0.96 (+/- 0.06)\n"
     ]
    }
   ],
   "source": [
    "scores = cross_val_score(rfc, X, Y, cv=10)\n",
    "# Print the accuracy scores for each fold\n",
    "print(\"Accuracy scores:\", scores)\n",
    "# Print the mean and standard deviation of the accuracy scores\n",
    "print(\"Mean Accuracy: %0.2f (+/- %0.2f)\" % (scores.mean(), scores.std() * 2))"
   ]
  },
  {
   "cell_type": "markdown",
   "id": "97edb9fc",
   "metadata": {},
   "source": [
    "# Neural Network\n",
    "\n",
    "### Model Testing reaches 0.9-1.0 Accuracy Levels after 100 Epochs and more"
   ]
  },
  {
   "cell_type": "code",
   "execution_count": 140,
   "id": "8afaab8e",
   "metadata": {},
   "outputs": [],
   "source": [
    "import tensorflow as tf\n",
    "from tensorflow import keras\n",
    "from sklearn.preprocessing import StandardScaler\n",
    "from sklearn.preprocessing import LabelEncoder, OneHotEncoder"
   ]
  },
  {
   "cell_type": "code",
   "execution_count": 141,
   "id": "335389d7",
   "metadata": {},
   "outputs": [],
   "source": [
    "# Convert labels to integers\n",
    "label_encoder = LabelEncoder()\n",
    "y_encoded = label_encoder.fit_transform(Y)"
   ]
  },
  {
   "cell_type": "code",
   "execution_count": 142,
   "id": "3505a1dd",
   "metadata": {},
   "outputs": [],
   "source": [
    "# Convert integers to one-hot encoded vectors\n",
    "onehot_encoder = OneHotEncoder(sparse=False, categories='auto')\n",
    "y_onehot = onehot_encoder.fit_transform(y_encoded.reshape(-1, 1))"
   ]
  },
  {
   "cell_type": "code",
   "execution_count": null,
   "id": "a3b62c56",
   "metadata": {},
   "outputs": [],
   "source": []
  },
  {
   "cell_type": "code",
   "execution_count": 143,
   "id": "ec5cee79",
   "metadata": {},
   "outputs": [],
   "source": [
    "# Split data into training and testing sets\n",
    "nX_train, nX_test, nY_train, nY_test = train_test_split(X, y_onehot, test_size=0.2)"
   ]
  },
  {
   "cell_type": "code",
   "execution_count": null,
   "id": "60b58cea",
   "metadata": {},
   "outputs": [],
   "source": []
  },
  {
   "cell_type": "code",
   "execution_count": 144,
   "id": "58f72875",
   "metadata": {},
   "outputs": [],
   "source": [
    "# Define neural network architecture\n",
    "model = keras.Sequential([\n",
    "    keras.layers.Dense(10, activation='relu', input_shape=(nX_train.shape[1],)),\n",
    "    keras.layers.Dense(nY_train.shape[1], activation='softmax')\n",
    "])"
   ]
  },
  {
   "cell_type": "code",
   "execution_count": 145,
   "id": "00968b5d",
   "metadata": {},
   "outputs": [],
   "source": [
    "# Compile the model\n",
    "model.compile(optimizer='adam', loss='categorical_crossentropy', metrics=['accuracy'])"
   ]
  },
  {
   "cell_type": "markdown",
   "id": "5cfd112d",
   "metadata": {},
   "source": [
    "### Model Training & Evaluation Metrics"
   ]
  },
  {
   "cell_type": "code",
   "execution_count": 146,
   "id": "beb3f80f",
   "metadata": {},
   "outputs": [
    {
     "name": "stdout",
     "output_type": "stream",
     "text": [
      "Epoch 1/100\n",
      "15/15 [==============================] - 1s 14ms/step - loss: 101.7268 - accuracy: 0.6352 - val_loss: 77.0339 - val_accuracy: 0.5965\n",
      "Epoch 2/100\n",
      "15/15 [==============================] - 0s 4ms/step - loss: 56.3911 - accuracy: 0.5978 - val_loss: 33.7016 - val_accuracy: 0.2456\n",
      "Epoch 3/100\n",
      "15/15 [==============================] - 0s 4ms/step - loss: 30.2731 - accuracy: 0.1648 - val_loss: 25.6022 - val_accuracy: 0.2018\n",
      "Epoch 4/100\n",
      "15/15 [==============================] - 0s 3ms/step - loss: 25.0606 - accuracy: 0.2132 - val_loss: 22.4185 - val_accuracy: 0.2193\n",
      "Epoch 5/100\n",
      "15/15 [==============================] - 0s 4ms/step - loss: 21.2332 - accuracy: 0.1560 - val_loss: 19.0901 - val_accuracy: 0.1404\n",
      "Epoch 6/100\n",
      "15/15 [==============================] - 0s 4ms/step - loss: 18.5817 - accuracy: 0.1319 - val_loss: 15.5918 - val_accuracy: 0.1579\n",
      "Epoch 7/100\n",
      "15/15 [==============================] - 0s 3ms/step - loss: 12.1895 - accuracy: 0.1802 - val_loss: 7.5595 - val_accuracy: 0.1491\n",
      "Epoch 8/100\n",
      "15/15 [==============================] - 0s 4ms/step - loss: 5.6256 - accuracy: 0.1934 - val_loss: 3.3004 - val_accuracy: 0.3158\n",
      "Epoch 9/100\n",
      "15/15 [==============================] - 0s 5ms/step - loss: 2.7700 - accuracy: 0.4813 - val_loss: 1.4655 - val_accuracy: 0.7105\n",
      "Epoch 10/100\n",
      "15/15 [==============================] - 0s 5ms/step - loss: 1.7347 - accuracy: 0.7429 - val_loss: 0.8176 - val_accuracy: 0.7895\n",
      "Epoch 11/100\n",
      "15/15 [==============================] - 0s 5ms/step - loss: 1.3730 - accuracy: 0.8066 - val_loss: 0.5157 - val_accuracy: 0.8596\n",
      "Epoch 12/100\n",
      "15/15 [==============================] - 0s 4ms/step - loss: 1.0789 - accuracy: 0.8484 - val_loss: 0.3673 - val_accuracy: 0.8333\n",
      "Epoch 13/100\n",
      "15/15 [==============================] - 0s 4ms/step - loss: 0.9545 - accuracy: 0.8571 - val_loss: 0.4994 - val_accuracy: 0.7807\n",
      "Epoch 14/100\n",
      "15/15 [==============================] - 0s 4ms/step - loss: 0.9345 - accuracy: 0.8044 - val_loss: 0.3248 - val_accuracy: 0.8860\n",
      "Epoch 15/100\n",
      "15/15 [==============================] - 0s 5ms/step - loss: 0.8621 - accuracy: 0.8198 - val_loss: 0.3170 - val_accuracy: 0.8947\n",
      "Epoch 16/100\n",
      "15/15 [==============================] - 0s 4ms/step - loss: 0.7214 - accuracy: 0.8637 - val_loss: 0.3221 - val_accuracy: 0.8947\n",
      "Epoch 17/100\n",
      "15/15 [==============================] - 0s 4ms/step - loss: 0.6797 - accuracy: 0.8813 - val_loss: 0.3107 - val_accuracy: 0.8947\n",
      "Epoch 18/100\n",
      "15/15 [==============================] - 0s 4ms/step - loss: 0.6280 - accuracy: 0.8637 - val_loss: 0.3626 - val_accuracy: 0.9035\n",
      "Epoch 19/100\n",
      "15/15 [==============================] - 0s 4ms/step - loss: 0.5938 - accuracy: 0.8681 - val_loss: 0.3073 - val_accuracy: 0.9035\n",
      "Epoch 20/100\n",
      "15/15 [==============================] - 0s 4ms/step - loss: 0.5794 - accuracy: 0.8703 - val_loss: 0.3883 - val_accuracy: 0.8246\n",
      "Epoch 21/100\n",
      "15/15 [==============================] - 0s 4ms/step - loss: 0.5800 - accuracy: 0.8659 - val_loss: 0.2987 - val_accuracy: 0.9298\n",
      "Epoch 22/100\n",
      "15/15 [==============================] - 0s 4ms/step - loss: 0.5647 - accuracy: 0.8835 - val_loss: 0.3609 - val_accuracy: 0.8158\n",
      "Epoch 23/100\n",
      "15/15 [==============================] - 0s 4ms/step - loss: 0.5283 - accuracy: 0.8835 - val_loss: 0.3235 - val_accuracy: 0.8509\n",
      "Epoch 24/100\n",
      "15/15 [==============================] - 0s 4ms/step - loss: 0.4225 - accuracy: 0.8989 - val_loss: 0.2990 - val_accuracy: 0.9211\n",
      "Epoch 25/100\n",
      "15/15 [==============================] - 0s 4ms/step - loss: 0.3673 - accuracy: 0.8835 - val_loss: 0.3582 - val_accuracy: 0.9123\n",
      "Epoch 26/100\n",
      "15/15 [==============================] - 0s 4ms/step - loss: 0.3601 - accuracy: 0.8879 - val_loss: 0.3029 - val_accuracy: 0.9123\n",
      "Epoch 27/100\n",
      "15/15 [==============================] - 0s 4ms/step - loss: 0.3224 - accuracy: 0.8857 - val_loss: 0.3221 - val_accuracy: 0.9123\n",
      "Epoch 28/100\n",
      "15/15 [==============================] - 0s 5ms/step - loss: 0.2897 - accuracy: 0.8967 - val_loss: 0.3278 - val_accuracy: 0.9123\n",
      "Epoch 29/100\n",
      "15/15 [==============================] - 0s 4ms/step - loss: 0.2994 - accuracy: 0.8989 - val_loss: 0.2749 - val_accuracy: 0.9386\n",
      "Epoch 30/100\n",
      "15/15 [==============================] - 0s 5ms/step - loss: 0.2692 - accuracy: 0.9033 - val_loss: 0.3841 - val_accuracy: 0.9035\n",
      "Epoch 31/100\n",
      "15/15 [==============================] - 0s 4ms/step - loss: 0.3077 - accuracy: 0.8835 - val_loss: 0.3163 - val_accuracy: 0.9123\n",
      "Epoch 32/100\n",
      "15/15 [==============================] - 0s 4ms/step - loss: 0.2894 - accuracy: 0.8945 - val_loss: 0.3283 - val_accuracy: 0.9123\n",
      "Epoch 33/100\n",
      "15/15 [==============================] - 0s 4ms/step - loss: 0.3009 - accuracy: 0.8923 - val_loss: 0.4057 - val_accuracy: 0.9035\n",
      "Epoch 34/100\n",
      "15/15 [==============================] - 0s 4ms/step - loss: 0.2876 - accuracy: 0.9011 - val_loss: 0.3487 - val_accuracy: 0.9123\n",
      "Epoch 35/100\n",
      "15/15 [==============================] - 0s 4ms/step - loss: 0.2752 - accuracy: 0.8945 - val_loss: 0.2997 - val_accuracy: 0.9211\n",
      "Epoch 36/100\n",
      "15/15 [==============================] - 0s 5ms/step - loss: 0.2910 - accuracy: 0.8967 - val_loss: 0.2646 - val_accuracy: 0.9211\n",
      "Epoch 37/100\n",
      "15/15 [==============================] - 0s 3ms/step - loss: 0.2677 - accuracy: 0.8989 - val_loss: 0.3221 - val_accuracy: 0.8421\n",
      "Epoch 38/100\n",
      "15/15 [==============================] - 0s 4ms/step - loss: 0.3145 - accuracy: 0.8989 - val_loss: 0.2762 - val_accuracy: 0.8947\n",
      "Epoch 39/100\n",
      "15/15 [==============================] - 0s 4ms/step - loss: 0.2628 - accuracy: 0.8989 - val_loss: 0.2716 - val_accuracy: 0.9211\n",
      "Epoch 40/100\n",
      "15/15 [==============================] - 0s 3ms/step - loss: 0.2521 - accuracy: 0.9077 - val_loss: 0.2793 - val_accuracy: 0.9211\n",
      "Epoch 41/100\n",
      "15/15 [==============================] - 0s 4ms/step - loss: 0.2510 - accuracy: 0.8967 - val_loss: 0.2776 - val_accuracy: 0.9211\n",
      "Epoch 42/100\n",
      "15/15 [==============================] - 0s 5ms/step - loss: 0.2974 - accuracy: 0.9011 - val_loss: 0.2692 - val_accuracy: 0.9211\n",
      "Epoch 43/100\n",
      "15/15 [==============================] - 0s 4ms/step - loss: 0.2430 - accuracy: 0.9121 - val_loss: 0.2522 - val_accuracy: 0.9211\n",
      "Epoch 44/100\n",
      "15/15 [==============================] - 0s 4ms/step - loss: 0.2396 - accuracy: 0.9055 - val_loss: 0.2507 - val_accuracy: 0.9211\n",
      "Epoch 45/100\n",
      "15/15 [==============================] - 0s 4ms/step - loss: 0.2360 - accuracy: 0.9165 - val_loss: 0.2748 - val_accuracy: 0.9211\n",
      "Epoch 46/100\n",
      "15/15 [==============================] - 0s 3ms/step - loss: 0.2619 - accuracy: 0.8901 - val_loss: 0.2577 - val_accuracy: 0.9211\n",
      "Epoch 47/100\n",
      "15/15 [==============================] - 0s 4ms/step - loss: 0.2368 - accuracy: 0.9165 - val_loss: 0.2705 - val_accuracy: 0.9211\n",
      "Epoch 48/100\n",
      "15/15 [==============================] - 0s 4ms/step - loss: 0.2273 - accuracy: 0.9099 - val_loss: 0.2489 - val_accuracy: 0.9211\n",
      "Epoch 49/100\n",
      "15/15 [==============================] - 0s 5ms/step - loss: 0.2220 - accuracy: 0.9143 - val_loss: 0.3134 - val_accuracy: 0.9035\n",
      "Epoch 50/100\n",
      "15/15 [==============================] - 0s 4ms/step - loss: 0.2439 - accuracy: 0.9011 - val_loss: 0.2911 - val_accuracy: 0.9211\n",
      "Epoch 51/100\n",
      "15/15 [==============================] - 0s 4ms/step - loss: 0.2335 - accuracy: 0.8989 - val_loss: 0.2327 - val_accuracy: 0.9386\n",
      "Epoch 52/100\n",
      "15/15 [==============================] - 0s 4ms/step - loss: 0.2451 - accuracy: 0.9187 - val_loss: 0.2312 - val_accuracy: 0.9386\n",
      "Epoch 53/100\n",
      "15/15 [==============================] - 0s 4ms/step - loss: 0.2243 - accuracy: 0.9121 - val_loss: 0.2293 - val_accuracy: 0.9386\n",
      "Epoch 54/100\n",
      "15/15 [==============================] - 0s 4ms/step - loss: 0.2151 - accuracy: 0.9209 - val_loss: 0.2639 - val_accuracy: 0.9211\n",
      "Epoch 55/100\n",
      "15/15 [==============================] - 0s 5ms/step - loss: 0.2262 - accuracy: 0.9165 - val_loss: 0.2362 - val_accuracy: 0.9211\n",
      "Epoch 56/100\n",
      "15/15 [==============================] - 0s 6ms/step - loss: 0.3085 - accuracy: 0.8857 - val_loss: 0.2497 - val_accuracy: 0.9035\n",
      "Epoch 57/100\n",
      "15/15 [==============================] - 0s 4ms/step - loss: 0.2554 - accuracy: 0.8923 - val_loss: 0.2247 - val_accuracy: 0.9386\n",
      "Epoch 58/100\n",
      "15/15 [==============================] - 0s 4ms/step - loss: 0.2470 - accuracy: 0.9099 - val_loss: 0.2340 - val_accuracy: 0.9298\n",
      "Epoch 59/100\n",
      "15/15 [==============================] - 0s 4ms/step - loss: 0.2343 - accuracy: 0.9187 - val_loss: 0.2645 - val_accuracy: 0.8860\n",
      "Epoch 60/100\n",
      "15/15 [==============================] - 0s 4ms/step - loss: 0.2636 - accuracy: 0.9011 - val_loss: 0.2309 - val_accuracy: 0.9298\n",
      "Epoch 61/100\n",
      "15/15 [==============================] - 0s 4ms/step - loss: 0.2449 - accuracy: 0.9187 - val_loss: 0.2378 - val_accuracy: 0.9123\n",
      "Epoch 62/100\n",
      "15/15 [==============================] - 0s 7ms/step - loss: 0.2193 - accuracy: 0.9055 - val_loss: 0.2172 - val_accuracy: 0.9474\n",
      "Epoch 63/100\n",
      "15/15 [==============================] - 0s 7ms/step - loss: 0.2177 - accuracy: 0.9187 - val_loss: 0.2635 - val_accuracy: 0.9211\n",
      "Epoch 64/100\n",
      "15/15 [==============================] - 0s 6ms/step - loss: 0.2216 - accuracy: 0.9187 - val_loss: 0.2798 - val_accuracy: 0.9035\n",
      "Epoch 65/100\n",
      "15/15 [==============================] - 0s 4ms/step - loss: 0.2055 - accuracy: 0.9143 - val_loss: 0.2157 - val_accuracy: 0.9386\n",
      "Epoch 66/100\n",
      "15/15 [==============================] - 0s 4ms/step - loss: 0.2272 - accuracy: 0.9077 - val_loss: 0.2121 - val_accuracy: 0.9474\n",
      "Epoch 67/100\n",
      "15/15 [==============================] - 0s 3ms/step - loss: 0.2202 - accuracy: 0.9011 - val_loss: 0.2432 - val_accuracy: 0.9123\n",
      "Epoch 68/100\n",
      "15/15 [==============================] - 0s 5ms/step - loss: 0.2361 - accuracy: 0.9099 - val_loss: 0.2259 - val_accuracy: 0.9123\n",
      "Epoch 69/100\n",
      "15/15 [==============================] - 0s 7ms/step - loss: 0.2596 - accuracy: 0.9011 - val_loss: 0.2792 - val_accuracy: 0.8947\n",
      "Epoch 70/100\n",
      "15/15 [==============================] - 0s 5ms/step - loss: 0.2596 - accuracy: 0.9121 - val_loss: 0.2181 - val_accuracy: 0.9211\n",
      "Epoch 71/100\n",
      "15/15 [==============================] - 0s 5ms/step - loss: 0.1865 - accuracy: 0.9143 - val_loss: 0.2070 - val_accuracy: 0.9561\n",
      "Epoch 72/100\n",
      "15/15 [==============================] - 0s 4ms/step - loss: 0.1892 - accuracy: 0.9253 - val_loss: 0.2052 - val_accuracy: 0.9561\n",
      "Epoch 73/100\n",
      "15/15 [==============================] - 0s 4ms/step - loss: 0.1874 - accuracy: 0.9187 - val_loss: 0.2126 - val_accuracy: 0.9211\n",
      "Epoch 74/100\n",
      "15/15 [==============================] - 0s 4ms/step - loss: 0.1880 - accuracy: 0.9099 - val_loss: 0.2207 - val_accuracy: 0.9211\n",
      "Epoch 75/100\n",
      "15/15 [==============================] - 0s 4ms/step - loss: 0.1947 - accuracy: 0.9231 - val_loss: 0.2016 - val_accuracy: 0.9474\n",
      "Epoch 76/100\n",
      "15/15 [==============================] - 0s 3ms/step - loss: 0.2194 - accuracy: 0.9055 - val_loss: 0.5130 - val_accuracy: 0.8684\n",
      "Epoch 77/100\n",
      "15/15 [==============================] - 0s 4ms/step - loss: 0.2527 - accuracy: 0.8945 - val_loss: 0.2089 - val_accuracy: 0.9298\n",
      "Epoch 78/100\n",
      "15/15 [==============================] - 0s 3ms/step - loss: 0.1890 - accuracy: 0.9231 - val_loss: 0.1973 - val_accuracy: 0.9561\n",
      "Epoch 79/100\n",
      "15/15 [==============================] - 0s 3ms/step - loss: 0.1876 - accuracy: 0.9187 - val_loss: 0.2370 - val_accuracy: 0.9123\n",
      "Epoch 80/100\n",
      "15/15 [==============================] - 0s 4ms/step - loss: 0.2154 - accuracy: 0.9121 - val_loss: 0.2250 - val_accuracy: 0.9123\n",
      "Epoch 81/100\n",
      "15/15 [==============================] - 0s 5ms/step - loss: 0.1658 - accuracy: 0.9253 - val_loss: 0.2093 - val_accuracy: 0.9298\n",
      "Epoch 82/100\n",
      "15/15 [==============================] - 0s 4ms/step - loss: 0.1803 - accuracy: 0.9275 - val_loss: 0.1950 - val_accuracy: 0.9561\n",
      "Epoch 83/100\n",
      "15/15 [==============================] - 0s 4ms/step - loss: 0.1755 - accuracy: 0.9275 - val_loss: 0.1996 - val_accuracy: 0.9298\n",
      "Epoch 84/100\n",
      "15/15 [==============================] - 0s 4ms/step - loss: 0.1760 - accuracy: 0.9209 - val_loss: 0.1916 - val_accuracy: 0.9561\n",
      "Epoch 85/100\n",
      "15/15 [==============================] - 0s 3ms/step - loss: 0.2082 - accuracy: 0.9143 - val_loss: 0.2330 - val_accuracy: 0.9123\n",
      "Epoch 86/100\n",
      "15/15 [==============================] - 0s 4ms/step - loss: 0.1892 - accuracy: 0.9231 - val_loss: 0.3130 - val_accuracy: 0.8860\n",
      "Epoch 87/100\n",
      "15/15 [==============================] - 0s 4ms/step - loss: 0.2717 - accuracy: 0.8945 - val_loss: 0.2475 - val_accuracy: 0.9123\n",
      "Epoch 88/100\n",
      "15/15 [==============================] - 0s 4ms/step - loss: 0.2261 - accuracy: 0.8967 - val_loss: 0.1870 - val_accuracy: 0.9561\n",
      "Epoch 89/100\n",
      "15/15 [==============================] - 0s 4ms/step - loss: 0.1784 - accuracy: 0.9253 - val_loss: 0.2084 - val_accuracy: 0.9123\n",
      "Epoch 90/100\n",
      "15/15 [==============================] - 0s 4ms/step - loss: 0.1764 - accuracy: 0.9209 - val_loss: 0.2032 - val_accuracy: 0.9298\n",
      "Epoch 91/100\n",
      "15/15 [==============================] - 0s 4ms/step - loss: 0.2047 - accuracy: 0.9143 - val_loss: 0.2054 - val_accuracy: 0.9123\n",
      "Epoch 92/100\n",
      "15/15 [==============================] - 0s 7ms/step - loss: 0.2282 - accuracy: 0.9055 - val_loss: 0.2319 - val_accuracy: 0.9123\n",
      "Epoch 93/100\n",
      "15/15 [==============================] - 0s 6ms/step - loss: 0.1828 - accuracy: 0.9253 - val_loss: 0.3103 - val_accuracy: 0.8860\n",
      "Epoch 94/100\n",
      "15/15 [==============================] - 0s 5ms/step - loss: 0.1940 - accuracy: 0.9209 - val_loss: 0.1823 - val_accuracy: 0.9561\n",
      "Epoch 95/100\n",
      "15/15 [==============================] - 0s 5ms/step - loss: 0.1689 - accuracy: 0.9253 - val_loss: 0.1907 - val_accuracy: 0.9386\n",
      "Epoch 96/100\n",
      "15/15 [==============================] - 0s 10ms/step - loss: 0.1669 - accuracy: 0.9253 - val_loss: 0.2240 - val_accuracy: 0.9123\n",
      "Epoch 97/100\n",
      "15/15 [==============================] - 0s 6ms/step - loss: 0.1872 - accuracy: 0.9165 - val_loss: 0.2956 - val_accuracy: 0.9123\n",
      "Epoch 98/100\n",
      "15/15 [==============================] - 0s 5ms/step - loss: 0.2075 - accuracy: 0.9121 - val_loss: 0.2680 - val_accuracy: 0.9123\n",
      "Epoch 99/100\n",
      "15/15 [==============================] - 0s 6ms/step - loss: 0.1772 - accuracy: 0.9319 - val_loss: 0.2921 - val_accuracy: 0.9123\n",
      "Epoch 100/100\n",
      "15/15 [==============================] - 0s 8ms/step - loss: 0.2223 - accuracy: 0.9077 - val_loss: 0.2684 - val_accuracy: 0.9123\n"
     ]
    },
    {
     "data": {
      "text/plain": [
       "<keras.callbacks.History at 0x1e040b26790>"
      ]
     },
     "execution_count": 146,
     "metadata": {},
     "output_type": "execute_result"
    }
   ],
   "source": [
    "# Train the model\n",
    "model.fit(nX_train, nY_train, epochs=100, batch_size=32, validation_data=(nX_test, nY_test))"
   ]
  },
  {
   "cell_type": "code",
   "execution_count": 147,
   "id": "48b8bc1a",
   "metadata": {},
   "outputs": [
    {
     "name": "stdout",
     "output_type": "stream",
     "text": [
      "5/5 [==============================] - 0s 2ms/step\n"
     ]
    }
   ],
   "source": [
    "Y_pred = model.predict(X_test)"
   ]
  },
  {
   "cell_type": "code",
   "execution_count": 149,
   "id": "8c561b9f",
   "metadata": {},
   "outputs": [
    {
     "name": "stdout",
     "output_type": "stream",
     "text": [
      "5/5 [==============================] - 0s 2ms/step - loss: 0.1153 - accuracy: 1.0000\n",
      "Test Accuracy:  1.0\n",
      "Test Loss:  0.11529054492712021\n"
     ]
    }
   ],
   "source": [
    "# Evaluate the model on the test data\n",
    "test_loss, test_acc = model.evaluate(X_test, Y_pred)\n",
    "# Print the test accuracy\n",
    "print('Test Accuracy: ', test_acc)\n",
    "print('Test Loss: ', test_loss)"
   ]
  },
  {
   "cell_type": "code",
   "execution_count": null,
   "id": "10306ed4",
   "metadata": {},
   "outputs": [],
   "source": []
  }
 ],
 "metadata": {
  "kernelspec": {
   "display_name": "Python 3 (ipykernel)",
   "language": "python",
   "name": "python3"
  },
  "language_info": {
   "codemirror_mode": {
    "name": "ipython",
    "version": 3
   },
   "file_extension": ".py",
   "mimetype": "text/x-python",
   "name": "python",
   "nbconvert_exporter": "python",
   "pygments_lexer": "ipython3",
   "version": "3.9.13"
  }
 },
 "nbformat": 4,
 "nbformat_minor": 5
}
